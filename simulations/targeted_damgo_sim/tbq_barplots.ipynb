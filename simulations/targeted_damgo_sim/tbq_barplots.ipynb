{
 "cells": [
  {
   "cell_type": "code",
   "execution_count": 1,
   "metadata": {},
   "outputs": [],
   "source": [
    "import pandas as pd\n",
    "import numpy as np\n",
    "import matplotlib.pyplot as plt\n",
    "import seaborn as sns"
   ]
  },
  {
   "cell_type": "code",
   "execution_count": 15,
   "metadata": {},
   "outputs": [],
   "source": [
    "random_gl_tbq_counts = pd.read_csv('../damgo_ramp_sim/random_gl_ctrl_damgo_tbq_counts.csv')\n",
    "random_gl_tbq_counts['damgo_target'] = 'Random'\n",
    "random_gl_tbq_counts['run_seed'] = np.arange(1,41)\n",
    "\n",
    "high_gl_tbq_counts = pd.read_csv('high_gl_ctrl_damgo_tbq_counts.csv')\n",
    "high_gl_tbq_counts['damgo_target'] = r'High $G_{Leak}$'\n",
    "high_gl_tbq_counts['run_seed'] = np.arange(1,41)\n",
    "\n",
    "low_gl_tbq_counts = pd.read_csv('low_gl_ctrl_damgo_tbq_counts.csv')\n",
    "low_gl_tbq_counts['damgo_target'] = r'Low $G_{Leak}$'\n",
    "low_gl_tbq_counts['run_seed'] = np.arange(1,41)"
   ]
  },
  {
   "cell_type": "code",
   "execution_count": 16,
   "metadata": {},
   "outputs": [],
   "source": [
    "df = pd.concat([random_gl_tbq_counts, high_gl_tbq_counts, low_gl_tbq_counts])"
   ]
  },
  {
   "cell_type": "code",
   "execution_count": 17,
   "metadata": {},
   "outputs": [],
   "source": [
    "df = df.drop('Unnamed: 0', axis=1)"
   ]
  },
  {
   "cell_type": "code",
   "execution_count": 18,
   "metadata": {},
   "outputs": [
    {
     "data": {
      "text/html": [
       "<div>\n",
       "<style scoped>\n",
       "    .dataframe tbody tr th:only-of-type {\n",
       "        vertical-align: middle;\n",
       "    }\n",
       "\n",
       "    .dataframe tbody tr th {\n",
       "        vertical-align: top;\n",
       "    }\n",
       "\n",
       "    .dataframe thead th {\n",
       "        text-align: right;\n",
       "    }\n",
       "</style>\n",
       "<table border=\"1\" class=\"dataframe\">\n",
       "  <thead>\n",
       "    <tr style=\"text-align: right;\">\n",
       "      <th></th>\n",
       "      <th>ctrl_t_count</th>\n",
       "      <th>ctrl_b_count</th>\n",
       "      <th>ctrl_q_count</th>\n",
       "      <th>damgo_t_count</th>\n",
       "      <th>damgo_b_count</th>\n",
       "      <th>damgo_q_count</th>\n",
       "      <th>damgo_target</th>\n",
       "      <th>run_seed</th>\n",
       "    </tr>\n",
       "  </thead>\n",
       "  <tbody>\n",
       "    <tr>\n",
       "      <th>0</th>\n",
       "      <td>119</td>\n",
       "      <td>15</td>\n",
       "      <td>166</td>\n",
       "      <td>59</td>\n",
       "      <td>10</td>\n",
       "      <td>231</td>\n",
       "      <td>Random</td>\n",
       "      <td>1</td>\n",
       "    </tr>\n",
       "    <tr>\n",
       "      <th>1</th>\n",
       "      <td>118</td>\n",
       "      <td>25</td>\n",
       "      <td>157</td>\n",
       "      <td>61</td>\n",
       "      <td>19</td>\n",
       "      <td>220</td>\n",
       "      <td>Random</td>\n",
       "      <td>2</td>\n",
       "    </tr>\n",
       "    <tr>\n",
       "      <th>2</th>\n",
       "      <td>118</td>\n",
       "      <td>21</td>\n",
       "      <td>161</td>\n",
       "      <td>58</td>\n",
       "      <td>18</td>\n",
       "      <td>224</td>\n",
       "      <td>Random</td>\n",
       "      <td>3</td>\n",
       "    </tr>\n",
       "    <tr>\n",
       "      <th>3</th>\n",
       "      <td>113</td>\n",
       "      <td>24</td>\n",
       "      <td>163</td>\n",
       "      <td>66</td>\n",
       "      <td>16</td>\n",
       "      <td>218</td>\n",
       "      <td>Random</td>\n",
       "      <td>4</td>\n",
       "    </tr>\n",
       "    <tr>\n",
       "      <th>4</th>\n",
       "      <td>122</td>\n",
       "      <td>21</td>\n",
       "      <td>157</td>\n",
       "      <td>67</td>\n",
       "      <td>12</td>\n",
       "      <td>221</td>\n",
       "      <td>Random</td>\n",
       "      <td>5</td>\n",
       "    </tr>\n",
       "    <tr>\n",
       "      <th>...</th>\n",
       "      <td>...</td>\n",
       "      <td>...</td>\n",
       "      <td>...</td>\n",
       "      <td>...</td>\n",
       "      <td>...</td>\n",
       "      <td>...</td>\n",
       "      <td>...</td>\n",
       "      <td>...</td>\n",
       "    </tr>\n",
       "    <tr>\n",
       "      <th>35</th>\n",
       "      <td>120</td>\n",
       "      <td>24</td>\n",
       "      <td>156</td>\n",
       "      <td>5</td>\n",
       "      <td>29</td>\n",
       "      <td>266</td>\n",
       "      <td>Low $G_{Leak}$</td>\n",
       "      <td>36</td>\n",
       "    </tr>\n",
       "    <tr>\n",
       "      <th>36</th>\n",
       "      <td>119</td>\n",
       "      <td>23</td>\n",
       "      <td>158</td>\n",
       "      <td>3</td>\n",
       "      <td>25</td>\n",
       "      <td>272</td>\n",
       "      <td>Low $G_{Leak}$</td>\n",
       "      <td>37</td>\n",
       "    </tr>\n",
       "    <tr>\n",
       "      <th>37</th>\n",
       "      <td>111</td>\n",
       "      <td>25</td>\n",
       "      <td>164</td>\n",
       "      <td>4</td>\n",
       "      <td>18</td>\n",
       "      <td>278</td>\n",
       "      <td>Low $G_{Leak}$</td>\n",
       "      <td>38</td>\n",
       "    </tr>\n",
       "    <tr>\n",
       "      <th>38</th>\n",
       "      <td>105</td>\n",
       "      <td>17</td>\n",
       "      <td>178</td>\n",
       "      <td>0</td>\n",
       "      <td>7</td>\n",
       "      <td>293</td>\n",
       "      <td>Low $G_{Leak}$</td>\n",
       "      <td>39</td>\n",
       "    </tr>\n",
       "    <tr>\n",
       "      <th>39</th>\n",
       "      <td>119</td>\n",
       "      <td>24</td>\n",
       "      <td>157</td>\n",
       "      <td>3</td>\n",
       "      <td>27</td>\n",
       "      <td>270</td>\n",
       "      <td>Low $G_{Leak}$</td>\n",
       "      <td>40</td>\n",
       "    </tr>\n",
       "  </tbody>\n",
       "</table>\n",
       "<p>120 rows × 8 columns</p>\n",
       "</div>"
      ],
      "text/plain": [
       "    ctrl_t_count  ctrl_b_count  ctrl_q_count  damgo_t_count  damgo_b_count  \\\n",
       "0            119            15           166             59             10   \n",
       "1            118            25           157             61             19   \n",
       "2            118            21           161             58             18   \n",
       "3            113            24           163             66             16   \n",
       "4            122            21           157             67             12   \n",
       "..           ...           ...           ...            ...            ...   \n",
       "35           120            24           156              5             29   \n",
       "36           119            23           158              3             25   \n",
       "37           111            25           164              4             18   \n",
       "38           105            17           178              0              7   \n",
       "39           119            24           157              3             27   \n",
       "\n",
       "    damgo_q_count    damgo_target  run_seed  \n",
       "0             231          Random         1  \n",
       "1             220          Random         2  \n",
       "2             224          Random         3  \n",
       "3             218          Random         4  \n",
       "4             221          Random         5  \n",
       "..            ...             ...       ...  \n",
       "35            266  Low $G_{Leak}$        36  \n",
       "36            272  Low $G_{Leak}$        37  \n",
       "37            278  Low $G_{Leak}$        38  \n",
       "38            293  Low $G_{Leak}$        39  \n",
       "39            270  Low $G_{Leak}$        40  \n",
       "\n",
       "[120 rows x 8 columns]"
      ]
     },
     "execution_count": 18,
     "metadata": {},
     "output_type": "execute_result"
    }
   ],
   "source": [
    "df"
   ]
  },
  {
   "cell_type": "code",
   "execution_count": 27,
   "metadata": {},
   "outputs": [
    {
     "data": {
      "image/png": "[encoded data removed]",
      "text/plain": [
       "<Figure size 576x864 with 6 Axes>"
      ]
     },
     "metadata": {
      "needs_background": "light"
     },
     "output_type": "display_data"
    }
   ],
   "source": [
    "fig, axes = plt.subplots(3, 2, figsize=(8,12), sharex=True, sharey=True)\n",
    "sns.barplot(ax=axes[0,0], x='damgo_target', y='ctrl_t_count', data=df, capsize=.1, order=['Random', r'Low $G_{Leak}$', r'High $G_{Leak}$'])\n",
    "sns.barplot(ax=axes[0,1], x='damgo_target', y='damgo_t_count', data=df, capsize=.1, order=['Random', r'Low $G_{Leak}$', r'High $G_{Leak}$'])\n",
    "sns.barplot(ax=axes[1,0], x='damgo_target', y='ctrl_b_count', data=df, capsize=.1, order=['Random', r'Low $G_{Leak}$', r'High $G_{Leak}$'])\n",
    "sns.barplot(ax=axes[1,1], x='damgo_target', y='damgo_b_count', data=df, capsize=.1, order=['Random', r'Low $G_{Leak}$', r'High $G_{Leak}$'])\n",
    "sns.barplot(ax=axes[2,0], x='damgo_target', y='ctrl_q_count', data=df, capsize=.1, order=['Random', r'Low $G_{Leak}$', r'High $G_{Leak}$'])\n",
    "sns.barplot(ax=axes[2,1], x='damgo_target', y='damgo_q_count', data=df, capsize=.1, order=['Random', r'Low $G_{Leak}$', r'High $G_{Leak}$'])\n",
    "for i in range(3):\n",
    "    for j in range(2):\n",
    "        axes[i,j].set_xlabel('')\n",
    "        axes[i,j].set_ylabel('')\n",
    "\n",
    "plt.tight_layout()\n",
    "plt.savefig('targeted_damgo_tbq_counts_barplot.pdf')"
   ]
  },
  {
   "cell_type": "code",
   "execution_count": 25,
   "metadata": {},
   "outputs": [
    {
     "data": {
      "text/plain": [
       "4.575"
      ]
     },
     "execution_count": 25,
     "metadata": {},
     "output_type": "execute_result"
    }
   ],
   "source": [
    "df[df['damgo_target']==r'Low $G_{Leak}$']['damgo_t_count'].mean()"
   ]
  },
  {
   "cell_type": "code",
   "execution_count": 83,
   "metadata": {},
   "outputs": [
    {
     "data": {
      "text/plain": [
       "<AxesSubplot:>"
      ]
     },
     "execution_count": 83,
     "metadata": {},
     "output_type": "execute_result"
    }
   ],
   "source": [
    "axes[0][0]"
   ]
  }
 ],
 "metadata": {
  "kernelspec": {
   "display_name": "Python 3",
   "language": "python",
   "name": "python3"
  },
  "language_info": {
   "codemirror_mode": {
    "name": "ipython",
    "version": 3
   },
   "file_extension": ".py",
   "mimetype": "text/x-python",
   "name": "python",
   "nbconvert_exporter": "python",
   "pygments_lexer": "ipython3",
   "version": "3.8.8"
  }
 },
 "nbformat": 4,
 "nbformat_minor": 4
}
